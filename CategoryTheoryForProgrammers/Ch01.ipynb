{
 "cells": [
  {
   "cell_type": "markdown",
   "metadata": {},
   "source": [
    "# Challenges\n",
    "\n",
    "1. Implement, as best as you can, the identity function in your favorite language (or the second favorite, if your favorite language happens to be Haskell).\n",
    "2. Implement the composition function in your favorite language. It takes two functions as arguments and returns a function that is their composition.\n",
    "3. Write a program that tries to test that your composition function respects identity.\n",
    "4. Is the world-wide web a category in any sense? Are links morphisms?\n",
    "5. Is Facebook a category, with people as objects and friendships as morphisms?\n",
    "6. When is a directed graph a category?"
   ]
  }
 ],
 "metadata": {
  "kernelspec": {
   "display_name": "Scala 2.11",
   "language": "scala211",
   "name": "scala211"
  },
  "language_info": {
   "codemirror_mode": "text/x-scala",
   "file_extension": ".scala",
   "mimetype": "text/x-scala",
   "name": "scala211",
   "pygments_lexer": "scala",
   "version": "2.11.8"
  }
 },
 "nbformat": 4,
 "nbformat_minor": 2
}
