{
 "cells": [
  {
   "cell_type": "markdown",
   "metadata": {},
   "source": [
    "## Problem 8\n",
    "This exercise relates to the College data set, which can be found in\n",
    "the file College.csv. It contains a number of variables for 777 different\n",
    "universities and colleges in the US. The variables are\n",
    "\n",
    "- Private : Public/private indicator\n",
    "- Apps : Number of applications received\n",
    "- Accept : Number of applicants accepted\n",
    "- Enroll : Number of new students enrolled\n",
    "- Top10perc : New students from top 10 % of high school class\n",
    "- Top25perc : New students from top 25 % of high school class\n",
    "- F.Undergrad : Number of full-time undergraduates\n",
    "- P.Undergrad : Number of part-time undergraduates\n",
    "- Outstate : Out-of-state tuition\n",
    "- Room.Board : Room and board costs\n",
    "- Books : Estimated book costs\n",
    "- Personal : Estimated personal spending\n",
    "- PhD : Percent of faculty with Ph.D.’s\n",
    "- Terminal : Percent of faculty with terminal degree\n",
    "- S.F.Ratio : Student/faculty ratio\n",
    "- perc.alumni : Percent of alumni who donate\n",
    "- Expend : Instructional expenditure per student\n",
    "- Grad.Rate : Graduation rate\n",
    "\n",
    "Before reading the data into ~~R~~ Python, it can be viewed in Excel or a text editor."
   ]
  },
  {
   "cell_type": "markdown",
   "metadata": {},
   "source": [
    "## (a)\n",
    "\n",
    "Use the read.csv() function to read the data into ~~R~~ Python. Call the\n",
    "loaded data college. Make sure that you have the directory set\n",
    "to the correct location for the data."
   ]
  },
  {
   "cell_type": "code",
   "execution_count": 4,
   "metadata": {
    "collapsed": false
   },
   "outputs": [
    {
     "name": "stdout",
     "output_type": "stream",
     "text": [
      "                     Unnamed: 0 Private  Apps  Accept  Enroll  Top10perc  \\\n",
      "0  Abilene Christian University     Yes  1660    1232     721         23   \n",
      "1            Adelphi University     Yes  2186    1924     512         16   \n",
      "2                Adrian College     Yes  1428    1097     336         22   \n",
      "3           Agnes Scott College     Yes   417     349     137         60   \n",
      "4     Alaska Pacific University     Yes   193     146      55         16   \n",
      "\n",
      "   Top25perc  F.Undergrad  P.Undergrad  Outstate  Room.Board  Books  Personal  \\\n",
      "0         52         2885          537      7440        3300    450      2200   \n",
      "1         29         2683         1227     12280        6450    750      1500   \n",
      "2         50         1036           99     11250        3750    400      1165   \n",
      "3         89          510           63     12960        5450    450       875   \n",
      "4         44          249          869      7560        4120    800      1500   \n",
      "\n",
      "   PhD  Terminal  S.F.Ratio  perc.alumni  Expend  Grad.Rate  \n",
      "0   70        78       18.1           12    7041         60  \n",
      "1   29        30       12.2           16   10527         56  \n",
      "2   53        66       12.9           30    8735         54  \n",
      "3   92        97        7.7           37   19016         59  \n",
      "4   76        72       11.9            2   10922         15  \n"
     ]
    }
   ],
   "source": [
    "from IPython.display import display, HTML\n",
    "import pandas as pd\n",
    "\n",
    "college = pd.read_csv(\"../data/College.csv\")\n",
    "\n",
    "print(college.head())"
   ]
  }
 ],
 "metadata": {
  "kernelspec": {
   "display_name": "Python 3",
   "language": "python",
   "name": "python3"
  },
  "language_info": {
   "codemirror_mode": {
    "name": "ipython",
    "version": 3
   },
   "file_extension": ".py",
   "mimetype": "text/x-python",
   "name": "python",
   "nbconvert_exporter": "python",
   "pygments_lexer": "ipython3",
   "version": "3.5.2"
  }
 },
 "nbformat": 4,
 "nbformat_minor": 1
}
